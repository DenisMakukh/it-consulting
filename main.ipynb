{
 "cells": [
  {
   "cell_type": "code",
   "id": "initial_id",
   "metadata": {
    "collapsed": true,
    "id": "initial_id"
   },
   "source": [
    "import pandas as pd\n",
    "import numpy as np\n",
    "import matplotlib.pyplot as plt\n",
    "import seaborn as sns\n",
    "from sklearn.model_selection import train_test_split\n",
    "from sklearn.metrics import mean_absolute_error, mean_squared_error\n",
    "import xgboost as xgb\n",
    "from sklearn.model_selection import GridSearchCV\n",
    "from sklearn.ensemble import RandomForestRegressor"
   ],
   "outputs": [],
   "execution_count": null
  },
  {
   "metadata": {
    "id": "ebaf20786e247f62"
   },
   "cell_type": "code",
   "source": [
    "sales_df = pd.read_excel('data/train_sales.xlsx')\n",
    "promo_df = pd.read_excel('data/train_promo.xlsx')\n",
    "geography_df = pd.read_excel('data/Атрибуты Customer.xlsx')\n",
    "weights_df = pd.read_excel('data/Веса DFU.xlsx')"
   ],
   "id": "ebaf20786e247f62",
   "outputs": [],
   "execution_count": null
  },
  {
   "metadata": {},
   "cell_type": "code",
   "source": "sales_df['Customer'].unique()",
   "id": "66eaeb240020d6ac",
   "outputs": [],
   "execution_count": null
  },
  {
   "metadata": {
    "colab": {
     "base_uri": "https://localhost:8080/"
    },
    "id": "fc17a8bf6e125ae2",
    "outputId": "16416f66-77be-4d2d-fe1a-a309ff030907"
   },
   "cell_type": "code",
   "source": [
    "sales_df['DFU'].unique()"
   ],
   "id": "fc17a8bf6e125ae2",
   "outputs": [],
   "execution_count": null
  },
  {
   "metadata": {
    "colab": {
     "base_uri": "https://localhost:8080/"
    },
    "id": "b99ada4d408561bf",
    "outputId": "79c68efa-7bdf-4018-c3b3-3559da0b0849"
   },
   "cell_type": "code",
   "source": [
    "promo_df['DFU'].unique()"
   ],
   "id": "b99ada4d408561bf",
   "outputs": [],
   "execution_count": null
  },
  {
   "metadata": {
    "colab": {
     "base_uri": "https://localhost:8080/"
    },
    "id": "6e1948d9b7a90717",
    "outputId": "c0ceb326-8386-4983-bc56-ae5cb598a8cc"
   },
   "cell_type": "code",
   "source": [
    "sales_df[sales_df['DFU'] == 'Рис басмати 500 гр']['Customer'].unique()"
   ],
   "id": "6e1948d9b7a90717",
   "outputs": [],
   "execution_count": null
  },
  {
   "metadata": {
    "colab": {
     "base_uri": "https://localhost:8080/"
    },
    "id": "2c3d4e01e1cf231b",
    "outputId": "0994d1b0-791e-4091-edec-5c08a0a49c6f"
   },
   "cell_type": "code",
   "source": [
    "promo_df[promo_df['DFU'] == 'Рис басмати 500 гр']['Customer'].unique()"
   ],
   "id": "2c3d4e01e1cf231b",
   "outputs": [],
   "execution_count": null
  },
  {
   "metadata": {
    "colab": {
     "base_uri": "https://localhost:8080/"
    },
    "id": "bf01e813345e3284",
    "outputId": "6b88e579-4507-4419-9b1a-bac68b31cf2a",
    "collapsed": true
   },
   "cell_type": "code",
   "source": [
    "for dfu_sales in sales_df['DFU'].unique():\n",
    "    print(f\"Кастомеры по продукту {dfu_sales}\")\n",
    "    print(f\"train_sales: {sales_df[sales_df['DFU'] == dfu_sales]['Customer'].unique()}\")\n",
    "    print(f\"train_promo: {promo_df[promo_df['DFU'] == dfu_sales]['Customer'].unique()}\")\n",
    "    print('\\n')"
   ],
   "id": "bf01e813345e3284",
   "outputs": [],
   "execution_count": null
  },
  {
   "metadata": {
    "colab": {
     "base_uri": "https://localhost:8080/",
     "height": 363
    },
    "id": "14a56ae55426bb5b",
    "outputId": "2f0a8440-1b95-4013-ffb7-6c3cfbe7ea74",
    "collapsed": true
   },
   "cell_type": "code",
   "source": [
    "sales_df.head(10)"
   ],
   "id": "14a56ae55426bb5b",
   "outputs": [],
   "execution_count": null
  },
  {
   "metadata": {
    "colab": {
     "base_uri": "https://localhost:8080/",
     "height": 363
    },
    "id": "4b28e30898ae2d6",
    "outputId": "24d7df94-0912-43b6-fd22-636b187186b2",
    "collapsed": true
   },
   "cell_type": "code",
   "source": [
    "promo_df.head(10)"
   ],
   "id": "4b28e30898ae2d6",
   "outputs": [],
   "execution_count": null
  },
  {
   "metadata": {
    "id": "5321e9910cb77807"
   },
   "cell_type": "markdown",
   "source": [
    "Начнем с обработки выбросов (выбросом считаем, если значение больше 2 сигм - из встречи с зак)"
   ],
   "id": "5321e9910cb77807"
  },
  {
   "metadata": {
    "colab": {
     "base_uri": "https://localhost:8080/",
     "height": 1000
    },
    "id": "1cb587cfcb9a46af",
    "outputId": "6464ecd9-c7f0-4b9b-c8e1-a82eb5495d27",
    "collapsed": true
   },
   "cell_type": "code",
   "source": [
    "bpv_mean = sales_df[\"BPV\"].mean()\n",
    "bpv_std = sales_df[\"BPV\"].std()\n",
    "lower_bound = bpv_mean - 2 * bpv_std\n",
    "upper_bound = bpv_mean + 2 * bpv_std\n",
    "\n",
    "bpv_outliers = sales_df[(sales_df[\"BPV\"] < lower_bound) | (sales_df[\"BPV\"] > upper_bound)]\n",
    "\n",
    "print(f\"Outliers in BPV: {len(bpv_outliers)}\")\n",
    "bpv_outliers"
   ],
   "id": "1cb587cfcb9a46af",
   "outputs": [],
   "execution_count": null
  },
  {
   "metadata": {
    "id": "f01185473c4cdcd6"
   },
   "cell_type": "markdown",
   "source": [
    "Всего 31 выброс, это 1.5% от всех данных, можно удалить"
   ],
   "id": "f01185473c4cdcd6"
  },
  {
   "metadata": {
    "colab": {
     "base_uri": "https://localhost:8080/"
    },
    "id": "81a4959740b5a1be",
    "outputId": "0d13b015-d263-476b-8955-b7fa6cac5596"
   },
   "cell_type": "code",
   "source": [
    "sales_df_cleaned = sales_df[(sales_df[\"BPV\"] >= lower_bound) & (sales_df[\"BPV\"] <= upper_bound)]\n",
    "sales_df_cleaned = sales_df_cleaned[sales_df_cleaned[\"BPV\"]>= 0]\n",
    "print(f\"Rows after cleaning: {len(sales_df_cleaned)}\")"
   ],
   "id": "81a4959740b5a1be",
   "outputs": [],
   "execution_count": null
  },
  {
   "metadata": {
    "id": "d0834c1276f59ce9"
   },
   "cell_type": "markdown",
   "source": [
    "Посмотрим на выбросы в promo days on shelf"
   ],
   "id": "d0834c1276f59ce9"
  },
  {
   "metadata": {
    "colab": {
     "base_uri": "https://localhost:8080/",
     "height": 441
    },
    "id": "a4b4cbc4c7459c9e",
    "outputId": "a6b5322b-7772-412a-c5ca-02e34c188c7a",
    "collapsed": true
   },
   "cell_type": "code",
   "source": [
    "promo_days_mean = promo_df[\"Promo Days on shelf\"].mean()\n",
    "promo_days_std = promo_df[\"Promo Days on shelf\"].std()\n",
    "lower_promo_bound = promo_days_mean - 2 * promo_days_std\n",
    "upper_promo_bound = promo_days_mean + 2 * promo_days_std\n",
    "\n",
    "promo_days_outliers = promo_df[(promo_df[\"Promo Days on shelf\"] < lower_promo_bound) |\n",
    "                               (promo_df[\"Promo Days on shelf\"] > upper_promo_bound)]\n",
    "\n",
    "print(f\"Outliers Promo Days on shelf: {len(promo_days_outliers)}\")\n",
    "promo_days_outliers"
   ],
   "id": "a4b4cbc4c7459c9e",
   "outputs": [],
   "execution_count": null
  },
  {
   "metadata": {
    "id": "ed70b3f00e8835f6"
   },
   "cell_type": "markdown",
   "source": [
    "2% от общих, тоже дропнем"
   ],
   "id": "ed70b3f00e8835f6"
  },
  {
   "metadata": {
    "colab": {
     "base_uri": "https://localhost:8080/"
    },
    "id": "b99bc32b17657b18",
    "outputId": "e45292da-d64e-488a-8de2-fd5426eb04c2"
   },
   "cell_type": "code",
   "source": [
    "promo_df_cleaned = promo_df[(promo_df[\"Promo Days on shelf\"] >= lower_promo_bound) &\n",
    "                            (promo_df[\"Promo Days on shelf\"] <= upper_promo_bound)]\n",
    "promo_df_cleaned.drop(columns=[\"Promo №\"], inplace=True)\n",
    "print(f\"Rows after cleaning: {len(promo_df_cleaned)}\")"
   ],
   "id": "b99bc32b17657b18",
   "outputs": [],
   "execution_count": null
  },
  {
   "metadata": {
    "id": "1060c7c2f2f5db8"
   },
   "cell_type": "markdown",
   "source": [
    "Теперь обработаем пропущенные значения в promo_df"
   ],
   "id": "1060c7c2f2f5db8"
  },
  {
   "metadata": {
    "colab": {
     "base_uri": "https://localhost:8080/",
     "height": 53
    },
    "id": "ef50ade65cb5b89",
    "outputId": "ff2619a2-8d1f-4cb2-f552-56a2d334d78e"
   },
   "cell_type": "code",
   "source": [
    "missing_promo_days = promo_df_cleaned[promo_df_cleaned[\"Promo Days on shelf\"].isna()]\n",
    "\n",
    "missing_promo_days"
   ],
   "id": "ef50ade65cb5b89",
   "outputs": [],
   "execution_count": null
  },
  {
   "metadata": {
    "id": "3a9b6755a8b43cbe"
   },
   "cell_type": "markdown",
   "source": [
    "а таких у нас нет"
   ],
   "id": "3a9b6755a8b43cbe"
  },
  {
   "cell_type": "markdown",
   "source": [
    "Оставим даты не раньше 2017 года"
   ],
   "metadata": {
    "id": "pfucAJ-XBcur"
   },
   "id": "pfucAJ-XBcur"
  },
  {
   "cell_type": "code",
   "source": [
    "promo_df_cleaned = promo_df_cleaned[promo_df_cleaned[\"Start Date on shelf\"] >= np.datetime64(\"2017-01-01\")]"
   ],
   "metadata": {
    "id": "fi76ccJhBgdD"
   },
   "id": "fi76ccJhBgdD",
   "outputs": [],
   "execution_count": null
  },
  {
   "cell_type": "markdown",
   "source": [
    "Переведем Units SoD в тонны"
   ],
   "metadata": {
    "id": "qkeBWnjrFpCC"
   },
   "id": "qkeBWnjrFpCC"
  },
  {
   "cell_type": "code",
   "source": [
    "promo_df_cleaned = pd.merge(promo_df_cleaned, weights_df, on=\"DFU\", how=\"left\")\n",
    "promo_df_cleaned[\"SoD\"] = promo_df_cleaned[\"Units SoD\"] * promo_df_cleaned[\"Unit weight, tn\"]\n",
    "promo_df_cleaned.drop(columns=[\"Unit weight, tn\"], inplace=True)\n",
    "promo_df_cleaned"
   ],
   "metadata": {
    "colab": {
     "base_uri": "https://localhost:8080/",
     "height": 424
    },
    "id": "nyrj6Et_FuCo",
    "outputId": "e6be1403-7451-4d21-bf5a-ef15c359f6d6",
    "collapsed": true
   },
   "id": "nyrj6Et_FuCo",
   "outputs": [],
   "execution_count": null
  },
  {
   "cell_type": "markdown",
   "source": [
    "Добавим сезонность в sales"
   ],
   "metadata": {
    "id": "v0B4e9WoAk5Q"
   },
   "id": "v0B4e9WoAk5Q"
  },
  {
   "cell_type": "code",
   "source": [
    "def get_season(date):\n",
    "    month = date.month\n",
    "    if month in [12, 1, 2]:\n",
    "        return \"Winter\"\n",
    "    elif month in [3, 4, 5]:\n",
    "        return \"Spring\"\n",
    "    elif month in [6, 7, 8]:\n",
    "        return \"Summer\"\n",
    "    else:\n",
    "        return \"Autumn\"\n",
    "\n",
    "sales_df_cleaned[\"Season\"] = sales_df_cleaned[\"Period\"].apply(get_season)"
   ],
   "metadata": {
    "id": "K52GneL5Aj8X"
   },
   "id": "K52GneL5Aj8X",
   "outputs": [],
   "execution_count": null
  },
  {
   "cell_type": "markdown",
   "source": [
    "Объединим с географией и типом Клиента"
   ],
   "metadata": {
    "id": "GxOJkgPNEQi_"
   },
   "id": "GxOJkgPNEQi_"
  },
  {
   "cell_type": "code",
   "source": [
    "sales_df_cleaned = pd.merge(sales_df_cleaned, geography_df, left_on=\"Customer\", right_on=\"Клиент\", how=\"left\")\n",
    "sales_df_cleaned.rename(columns={\"Тип\": \"Type\", \"География\": \"Geography\"}, inplace=True)"
   ],
   "metadata": {
    "id": "OPt_FvQcEVP-"
   },
   "id": "OPt_FvQcEVP-",
   "outputs": [],
   "execution_count": null
  },
  {
   "cell_type": "code",
   "source": [
    "sales_df_cleaned.drop(columns=[\"Клиент\"], inplace=True)\n",
    "sales_df_cleaned"
   ],
   "metadata": {
    "colab": {
     "base_uri": "https://localhost:8080/",
     "height": 424
    },
    "id": "-f9JDwPwEavr",
    "outputId": "fc7014c0-4644-45ce-c516-5fa8e27de6eb"
   },
   "id": "-f9JDwPwEavr",
   "outputs": [],
   "execution_count": null
  },
  {
   "metadata": {
    "id": "87cfcb35e504b6d2"
   },
   "cell_type": "code",
   "source": [
    "sales_df_cleaned['End of Period'] = sales_df_cleaned['Period'] + pd.Timedelta(days=6)"
   ],
   "id": "87cfcb35e504b6d2",
   "outputs": [],
   "execution_count": null
  },
  {
   "cell_type": "code",
   "source": [
    "sales_df_cleaned.info()"
   ],
   "metadata": {
    "colab": {
     "base_uri": "https://localhost:8080/"
    },
    "collapsed": true,
    "id": "XpA3xsW0t0Yy",
    "outputId": "46556134-2ba8-44da-c4f4-661c1dc9a4fd"
   },
   "id": "XpA3xsW0t0Yy",
   "outputs": [],
   "execution_count": null
  },
  {
   "cell_type": "code",
   "source": [
    "promo_df_cleaned.info()"
   ],
   "metadata": {
    "colab": {
     "base_uri": "https://localhost:8080/"
    },
    "collapsed": true,
    "id": "DYcz2JrMt3bV",
    "outputId": "38dbdc53-eb37-49c9-c830-c945f86c15fb"
   },
   "id": "DYcz2JrMt3bV",
   "outputs": [],
   "execution_count": null
  },
  {
   "cell_type": "code",
   "source": [
    "promo_cust_1 = promo_df_cleaned[promo_df_cleaned['Customer'] == 1]"
   ],
   "metadata": {
    "id": "9tS7EGy21Nfb"
   },
   "id": "9tS7EGy21Nfb",
   "outputs": [],
   "execution_count": null
  },
  {
   "cell_type": "code",
   "source": [
    "promo_cust_1.info()"
   ],
   "metadata": {
    "colab": {
     "base_uri": "https://localhost:8080/"
    },
    "id": "M0ATOacc1VJG",
    "outputId": "6227bd85-87bc-4562-dd54-45d2cc3e1d50",
    "collapsed": true
   },
   "id": "M0ATOacc1VJG",
   "outputs": [],
   "execution_count": null
  },
  {
   "cell_type": "code",
   "source": [
    "#sales_df_cleaned.to_excel('sales_df_cleaned.xlsx')"
   ],
   "metadata": {
    "id": "0_QKez9J2OBM"
   },
   "id": "0_QKez9J2OBM",
   "outputs": [],
   "execution_count": null
  },
  {
   "cell_type": "code",
   "source": [
    "#promo_cust_1.to_excel('promo_cust_1.xlsx')"
   ],
   "metadata": {
    "id": "vamQdxr23sop"
   },
   "id": "vamQdxr23sop",
   "outputs": [],
   "execution_count": null
  },
  {
   "cell_type": "code",
   "source": [
    "sales_df_cleaned[sales_df_cleaned['BPV'] != sales_df_cleaned['Total Sell-in']]"
   ],
   "metadata": {
    "colab": {
     "base_uri": "https://localhost:8080/",
     "height": 424
    },
    "id": "qHCeA3Hn3Ex1",
    "outputId": "fb7b1b71-c596-4e09-85a7-d6d1ab1433ec"
   },
   "id": "qHCeA3Hn3Ex1",
   "outputs": [],
   "execution_count": null
  },
  {
   "cell_type": "code",
   "source": [
    "sales_df_cleaned[sales_df_cleaned['BPV'] == 0]"
   ],
   "metadata": {
    "colab": {
     "base_uri": "https://localhost:8080/",
     "height": 424
    },
    "id": "XE3tk23M4av9",
    "outputId": "6703308f-0132-4e97-e5f8-199445ac3867"
   },
   "id": "XE3tk23M4av9",
   "outputs": [],
   "execution_count": null
  },
  {
   "cell_type": "code",
   "source": [
    "sales_df_cleaned[(sales_df_cleaned['BPV'] == 0) & (sales_df_cleaned['Customer'] != 1)]"
   ],
   "metadata": {
    "colab": {
     "base_uri": "https://localhost:8080/",
     "height": 53
    },
    "id": "xvg4sLcH3nrm",
    "outputId": "e4938b0d-373c-4c51-f1ca-73f8c39a7922"
   },
   "id": "xvg4sLcH3nrm",
   "outputs": [],
   "execution_count": null
  },
  {
   "cell_type": "code",
   "source": [
    "sales_df_cleaned[(sales_df_cleaned['BPV'] == 0) & (sales_df_cleaned['Total Sell-in'] != 0)]"
   ],
   "metadata": {
    "colab": {
     "base_uri": "https://localhost:8080/",
     "height": 424
    },
    "id": "NLJzvmjCT4kC",
    "outputId": "f3685e45-996b-4939-cf64-f70cb3ba795b"
   },
   "id": "NLJzvmjCT4kC",
   "outputs": [],
   "execution_count": null
  },
  {
   "cell_type": "code",
   "source": [
    "sales_df_cleaned[(sales_df_cleaned['BPV'] != sales_df_cleaned['Total Sell-in']) & (sales_df_cleaned['Customer'] != 1)]"
   ],
   "metadata": {
    "colab": {
     "base_uri": "https://localhost:8080/",
     "height": 53
    },
    "id": "VMZAYuko4Dsa",
    "outputId": "71145e51-cee1-4382-baad-65cecf5cd478"
   },
   "id": "VMZAYuko4Dsa",
   "outputs": [],
   "execution_count": null
  },
  {
   "cell_type": "code",
   "source": [
    "promo_c1_weekdays = promo_cust_1.copy()"
   ],
   "metadata": {
    "id": "3wvmgGOE81BG"
   },
   "id": "3wvmgGOE81BG",
   "outputs": [],
   "execution_count": null
  },
  {
   "cell_type": "code",
   "source": [
    "promo_c1_weekdays.info()"
   ],
   "metadata": {
    "colab": {
     "base_uri": "https://localhost:8080/"
    },
    "id": "khG8eyFEQnhx",
    "outputId": "35fbda81-520d-4196-d78c-77787a0c0d07"
   },
   "id": "khG8eyFEQnhx",
   "outputs": [],
   "execution_count": null
  },
  {
   "cell_type": "code",
   "source": [
    "promo_c1_weekdays.to_excel('promo_c1_weekdays.xlsx')"
   ],
   "metadata": {
    "id": "CSvj76_h-YCJ"
   },
   "id": "CSvj76_h-YCJ",
   "outputs": [],
   "execution_count": null
  },
  {
   "cell_type": "markdown",
   "source": [
    "Есть два датасета pandas:\n",
    "\n",
    "sales_df_cleaned:\n",
    "Data columns (total 9 columns):\n",
    " #   Column         Non-Null Count  Dtype         \n",
    "---  ------         --------------  -----         \n",
    " 0   DFU            2062 non-null   object        \n",
    " 1   Customer       2062 non-null   int64         \n",
    " 2   Period         2062 non-null   datetime64[ns]\n",
    " 3   BPV            2062 non-null   float64       \n",
    " 4   Total Sell-in  2062 non-null   float64       \n",
    " 5   Season         2062 non-null   object        \n",
    " 6   Type           2062 non-null   object        \n",
    " 7   Geography      2062 non-null   object        \n",
    " 8   End of Period  2062 non-null   datetime64[ns]\n",
    "\n",
    "promo_cust_1:\n",
    "Data columns (total 13 columns):\n",
    " #   Column                        Non-Null Count  Dtype         \n",
    "---  ------                        --------------  -----         \n",
    " 0   Promo                         183 non-null    int64         \n",
    " 1   Customer                      183 non-null    int64         \n",
    " 2   DFU                           183 non-null    object        \n",
    " 3   Promo mechanic                183 non-null    int64         \n",
    " 4   Start Date on shelf           183 non-null    datetime64[ns]\n",
    " 5   Promo Days on shelf           183 non-null    float64       \n",
    " 6   End Date on shelf             183 non-null    datetime64[ns]\n",
    " 7   Shipment days to promo start  183 non-null    int64         \n",
    " 8   First Date of shipment        183 non-null    datetime64[ns]\n",
    " 9   End Date of shipment          183 non-null    datetime64[ns]\n",
    " 10  Discount, %                   183 non-null    float64       \n",
    " 11  Units SoD                     183 non-null    float64       \n",
    " 12  SoD                           180 non-null    float64  \n",
    "\n",
    "\n",
    " В promo_cust_1 только один Customer = 1, он же есть в первом датасете. Нужно их соединить с помощью merge, но есть несколько проблем:\n",
    "\n",
    " Period и End of Period в sales - это понедельник и воскресенье соответственно, однако в promo_cust_1 \"Start Date on shelf\" может начинаться не с понедельника и заканчиваться (End Date on shelf) не в воскресенье:\n",
    "\n",
    " \t\tPromo\n",
    "weekday\tend weekday\n",
    "\n",
    "Monday -\tSunday\t2\n",
    "\n",
    "\n",
    "Sunday -\tSaturday\t2\n",
    "\n",
    "Thursday:\n",
    "\n",
    "-Friday 1\n",
    "\n",
    "-Monday\t2\n",
    "\n",
    "-Saturday\t1\n",
    "\n",
    "-Thursday\t20\n",
    "\n",
    "-Wednesday\t11\n",
    "\n",
    "Tuesday:\n",
    "-Monday\t140\n",
    "\n",
    "-Thursday\t3\n",
    "\n",
    "-Tuesday\t1\n",
    "\n",
    "\n",
    "Нужно соединить по следующей логике:\n",
    "\n",
    "Если даты периода в строке sales пересекаются с promo не польностью, то нужно разделить на две строки - одна покрывает период без промо-акции, а другая - с ней. Также нужно учесть следующий пункт:\n",
    "\n",
    "bpv == total sell-in и был промо - в так случае мы считаем, что это ложь и промо не было"
   ],
   "metadata": {
    "id": "O1OrY3Bf742S"
   },
   "id": "O1OrY3Bf742S"
  },
  {
   "cell_type": "markdown",
   "source": [
    "# Merge"
   ],
   "metadata": {
    "id": "FSSaMgNGxs8u"
   },
   "id": "FSSaMgNGxs8u"
  },
  {
   "cell_type": "code",
   "source": [
    "sales_df_cleaned.info()"
   ],
   "metadata": {
    "colab": {
     "base_uri": "https://localhost:8080/"
    },
    "id": "R9_ziFv1x1O8",
    "outputId": "38a61afe-1c85-420a-da7b-bc5789e96797"
   },
   "id": "R9_ziFv1x1O8",
   "outputs": [],
   "execution_count": null
  },
  {
   "cell_type": "code",
   "source": [
    "sales_df_cleaned['Year-Week'] = sales_df_cleaned['Period'].dt.strftime('%Y-%W')\n",
    "sales_df_cleaned.sort_values('Period')"
   ],
   "metadata": {
    "colab": {
     "base_uri": "https://localhost:8080/",
     "height": 424
    },
    "id": "_W74nankxveO",
    "outputId": "520a5aba-8d9e-41a7-89b8-5c675f3da84a"
   },
   "id": "_W74nankxveO",
   "outputs": [],
   "execution_count": null
  },
  {
   "cell_type": "code",
   "source": [
    "promo_cust_1.columns"
   ],
   "metadata": {
    "colab": {
     "base_uri": "https://localhost:8080/"
    },
    "id": "cc_DGiTZ41Hh",
    "outputId": "9bce8183-c0f9-4db7-f621-7f2636927e5f"
   },
   "id": "cc_DGiTZ41Hh",
   "outputs": [],
   "execution_count": null
  },
  {
   "cell_type": "code",
   "source": [
    "def expand_dates(row):\n",
    "    return pd.DataFrame({\n",
    "        'Promo': row['Promo'],\n",
    "        'Customer': row['Customer'],\n",
    "        'DFU': row['DFU'],\n",
    "        'Promo mechanic': row['Promo mechanic'],\n",
    "        'Start Date on shelf': row['Start Date on shelf'],\n",
    "        'Promo Days on shelf': row['Promo Days on shelf'],\n",
    "        'End Date on shelf': row['End Date on shelf'],\n",
    "        'Shipment days to promo start': row['Shipment days to promo start'],\n",
    "        'Date': pd.date_range(start=row['First Date of shipment'],\n",
    "                              end=row['End Date of shipment']),\n",
    "        'First Date of shipment': row['First Date of shipment'],\n",
    "        'End Date of shipment': row['End Date of shipment'],\n",
    "        'Discount, %': row['Discount, %'],\n",
    "        'Units SoD': row['Units SoD'],\n",
    "        'SoD': row['SoD'],\n",
    "    })\n",
    "\n",
    "# Генерация нового DataFrame с датами\n",
    "expanded_df = pd.concat(promo_cust_1.apply(expand_dates, axis=1).to_list(), ignore_index=True)"
   ],
   "metadata": {
    "id": "yAr_kyI93Txm"
   },
   "id": "yAr_kyI93Txm",
   "outputs": [],
   "execution_count": null
  },
  {
   "cell_type": "code",
   "source": [
    "expanded_df.head(25)"
   ],
   "metadata": {
    "colab": {
     "base_uri": "https://localhost:8080/",
     "height": 833
    },
    "id": "27de1gBd6w7t",
    "outputId": "d3c29ae8-fc69-4e76-ec96-def5bd2cc948"
   },
   "id": "27de1gBd6w7t",
   "outputs": [],
   "execution_count": null
  },
  {
   "cell_type": "code",
   "source": [
    "expanded_df['Year-Week'] = expanded_df['Date'].dt.strftime('%Y-%W')\n",
    "\n",
    "expanded_df.head(25)"
   ],
   "metadata": {
    "colab": {
     "base_uri": "https://localhost:8080/",
     "height": 833
    },
    "id": "cCuE7eIt7eAj",
    "outputId": "81539221-4329-4fae-9f1b-a7a639756648"
   },
   "id": "cCuE7eIt7eAj",
   "outputs": [],
   "execution_count": null
  },
  {
   "cell_type": "code",
   "source": [
    "expanded_unique = expanded_df.drop_duplicates(subset = ['Promo', 'DFU', 'Year-Week'], keep = 'first').reset_index(drop = True)"
   ],
   "metadata": {
    "id": "YAR2EFB-9wad"
   },
   "id": "YAR2EFB-9wad",
   "outputs": [],
   "execution_count": null
  },
  {
   "cell_type": "code",
   "source": [
    "sales_df_cleaned.info()"
   ],
   "metadata": {
    "colab": {
     "base_uri": "https://localhost:8080/"
    },
    "id": "5kx0Q4gkBfBS",
    "outputId": "404b7478-55be-401f-bb60-dfd1a39810f3"
   },
   "id": "5kx0Q4gkBfBS",
   "outputs": [],
   "execution_count": null
  },
  {
   "cell_type": "code",
   "source": [
    "expanded_unique.info()"
   ],
   "metadata": {
    "colab": {
     "base_uri": "https://localhost:8080/"
    },
    "id": "s7eoXwuA-UbK",
    "outputId": "e1ecb5ea-16d9-4b58-f6e8-f2abb1cd4d23"
   },
   "id": "s7eoXwuA-UbK",
   "outputs": [],
   "execution_count": null
  },
  {
   "cell_type": "code",
   "source": [
    "merged = pd.merge(\n",
    "    left=sales_df_cleaned,\n",
    "    right=expanded_unique,\n",
    "    how='left',\n",
    "    left_on=['Customer', 'DFU', 'Year-Week'],\n",
    "    right_on=['Customer', 'DFU', 'Year-Week'],\n",
    ")"
   ],
   "metadata": {
    "id": "hza1xgmCA6fI"
   },
   "id": "hza1xgmCA6fI",
   "outputs": [],
   "execution_count": null
  },
  {
   "cell_type": "code",
   "source": [
    "merged.to_excel('merged_sales_promo.xlsx')"
   ],
   "metadata": {
    "id": "NcyBhGU0BqkA"
   },
   "id": "NcyBhGU0BqkA",
   "outputs": [],
   "execution_count": null
  },
  {
   "metadata": {},
   "cell_type": "code",
   "source": [
    "mask = (merged['BPV'] == merged['Total Sell-in']) & (merged['BPV'] > 0)\n",
    "cols_to_clean = ['Promo', 'Promo mechanic',\n",
    "       'Start Date on shelf', 'Promo Days on shelf', 'End Date on shelf',\n",
    "       'Shipment days to promo start', 'Date', 'First Date of shipment',\n",
    "       'End Date of shipment', 'Discount, %', 'Units SoD', 'SoD']\n",
    "\n",
    "merged.loc[mask, cols_to_clean] = np.nan\n",
    "merged.to_excel('merged_cleaned.xlsx')"
   ],
   "id": "69bd744fb46b1a6",
   "outputs": [],
   "execution_count": null
  },
  {
   "metadata": {},
   "cell_type": "markdown",
   "source": "# Моделинг, эксперименты",
   "id": "bb5747926c08bf32"
  },
  {
   "metadata": {},
   "cell_type": "markdown",
   "source": "посмотрим на кейсы, когда у нас бпв не равен тотал селл ин и промо не было",
   "id": "c8e734e4171d7f67"
  },
  {
   "metadata": {},
   "cell_type": "code",
   "source": "merged['Customer'].unique()",
   "id": "cc8dfe0822c85bd",
   "outputs": [],
   "execution_count": null
  },
  {
   "metadata": {},
   "cell_type": "code",
   "source": "merged_bpv_si_conflicts = merged[(merged['BPV'] != merged['Total Sell-in']) & (merged['Promo'].isna() == True)].copy()",
   "id": "3cd71b4cb50e90b",
   "outputs": [],
   "execution_count": null
  },
  {
   "metadata": {},
   "cell_type": "code",
   "source": "merged_bpv_si_conflicts['Customer'].unique()",
   "id": "672bc6d7981d09bb",
   "outputs": [],
   "execution_count": null
  },
  {
   "metadata": {},
   "cell_type": "markdown",
   "source": "посторим по конфликтным график - здесь в данных bpv != total sell in, но при этом промо НЕ было",
   "id": "2383b4a41d14003e"
  },
  {
   "metadata": {},
   "cell_type": "code",
   "source": [
    "plot_data = merged_bpv_si_conflicts.sort_values(by=\"Period\")\n",
    "plot_data"
   ],
   "id": "59c90339c89c4759",
   "outputs": [],
   "execution_count": null
  },
  {
   "metadata": {},
   "cell_type": "code",
   "source": [
    "plt.figure(figsize=(12, 6))\n",
    "plt.plot(plot_data[\"Period\"], plot_data[\"BPV\"], marker='o', label=\"BPV\", linestyle='-')\n",
    "plt.plot(plot_data[\"Period\"], plot_data[\"Total Sell-in\"], marker='s', label=\"Total Sell-in\", linestyle='--')\n",
    "\n",
    "plt.xlabel(\"Period\")\n",
    "plt.ylabel(\"Value\")\n",
    "plt.title(\"Изменение BPV и Total Sell-in по времени\")\n",
    "plt.legend()\n",
    "plt.grid(True)\n",
    "plt.xticks(rotation=45)\n",
    "\n",
    "plt.show()"
   ],
   "id": "fc7965a6a99bbf8a",
   "outputs": [],
   "execution_count": null
  },
  {
   "metadata": {},
   "cell_type": "markdown",
   "source": "построим еще для каждого dfu",
   "id": "ae8b1b6342391660"
  },
  {
   "metadata": {},
   "cell_type": "code",
   "source": [
    "import math\n",
    "\n",
    "dfu_values = plot_data[\"DFU\"].unique()\n",
    "num_dfu = len(dfu_values)\n",
    "\n",
    "num_cols = 3\n",
    "num_rows = math.ceil(num_dfu / num_cols)\n",
    "\n",
    "fig, axes = plt.subplots(num_rows, num_cols, figsize=(15, 5 * num_rows))\n",
    "axes = axes.flatten()\n",
    "\n",
    "for i, dfu in enumerate(dfu_values):\n",
    "    ax = axes[i]\n",
    "    dfu_data = plot_data[plot_data[\"DFU\"] == dfu]\n",
    "    \n",
    "    ax.plot(dfu_data[\"Period\"], dfu_data[\"BPV\"], marker='o', linestyle='-', label=\"BPV\")\n",
    "    ax.plot(dfu_data[\"Period\"], dfu_data[\"Total Sell-in\"], marker='s', linestyle='--', label=\"Total Sell-in\")\n",
    "    \n",
    "    ax.set_title(f\"DFU: {dfu}\")\n",
    "    ax.set_xlabel(\"Period\")\n",
    "    ax.set_ylabel(\"Value\")\n",
    "    ax.legend()\n",
    "    ax.grid(True)\n",
    "    ax.tick_params(axis='x', rotation=45)\n",
    "\n",
    "for j in range(i + 1, len(axes)):\n",
    "    fig.delaxes(axes[j])\n",
    "\n",
    "plt.tight_layout()\n",
    "plt.show()"
   ],
   "id": "84f572790bcdf120",
   "outputs": [],
   "execution_count": null
  },
  {
   "metadata": {},
   "cell_type": "code",
   "source": "merged[merged['Promo'].isna() == False]",
   "id": "58d8f696df2fce0",
   "outputs": [],
   "execution_count": null
  },
  {
   "metadata": {},
   "cell_type": "code",
   "source": "merged[merged['Promo'].isna() == False].to_excel('merged_si_conflicts.xlsx')",
   "id": "9691ac1e12fb016",
   "outputs": [],
   "execution_count": null
  },
  {
   "metadata": {},
   "cell_type": "markdown",
   "source": "# EDA к моделингу",
   "id": "c014f1c2c1832c01"
  },
  {
   "metadata": {},
   "cell_type": "markdown",
   "source": "попробуем сделать следующее: в конфликтных случаях - если у нас bpv != total sell in и промо не было, то просто делаем bpv равным total sell in",
   "id": "6a4d08d350a0f2a3"
  },
  {
   "metadata": {},
   "cell_type": "code",
   "source": [
    "df = merged.copy()\n",
    "df.head(5)"
   ],
   "id": "fae5cfa0ab277f51",
   "outputs": [],
   "execution_count": null
  },
  {
   "metadata": {},
   "cell_type": "markdown",
   "source": "ВОПРОС: в BPV пишем total sell in, поскольку нет данных по промо?",
   "id": "2c62b19c585b2f8"
  },
  {
   "metadata": {},
   "cell_type": "markdown",
   "source": "промо сдвинулось. нужно поправку делать. если bpv == 0 и total sell in не равен, то точно было промо. вопрос что делать с граничными. в воскр не бывает отгрузок - нудно смотреть в граничных неделях",
   "id": "bacf500a735d6b3a"
  },
  {
   "metadata": {},
   "cell_type": "code",
   "source": [
    "df.loc[(df['BPV'] != df['Total Sell-in']) & (df['Promo'].isna()), 'BPV'] = df['Total Sell-in']\n",
    "df.head(5)"
   ],
   "id": "34f93778b7298218",
   "outputs": [],
   "execution_count": null
  },
  {
   "metadata": {},
   "cell_type": "markdown",
   "source": "Почистим данные и подумаем что делать с нанами",
   "id": "9ee50b7c5a7ad593"
  },
  {
   "metadata": {},
   "cell_type": "code",
   "source": "df.info()",
   "id": "75f989cd43c5df4c",
   "outputs": [],
   "execution_count": null
  },
  {
   "metadata": {},
   "cell_type": "markdown",
   "source": "определять промо по bpv и sell in",
   "id": "c30be935e04c4699"
  },
  {
   "metadata": {},
   "cell_type": "code",
   "source": "df[(df['SoD'].isna()) & (df['Promo'].isna() == False)]",
   "id": "bff70d64a78133bd",
   "outputs": [],
   "execution_count": null
  },
  {
   "metadata": {},
   "cell_type": "markdown",
   "source": "",
   "id": "e02bad510cdba59b"
  },
  {
   "metadata": {},
   "cell_type": "code",
   "source": [
    "df = df.drop(df[(df['SoD'].isna()) & (df['Promo'].notna())].index)\n",
    "df.info()"
   ],
   "id": "7152795bed0ba901",
   "outputs": [],
   "execution_count": null
  },
  {
   "metadata": {},
   "cell_type": "code",
   "source": [
    "promo_columns = [\"Promo\", \"Promo mechanic\", \"Promo Days on shelf\", \n",
    "                 \"Shipment days to promo start\", \"Discount, %\", \n",
    "                 \"Units SoD\", \"SoD\"]\n",
    "df[promo_columns] = df[promo_columns].fillna(0)\n",
    "\n",
    "date_columns = [\"Start Date on shelf\", \"End Date on shelf\", \"Date\",\n",
    "                \"First Date of shipment\", \"End Date of shipment\"]\n",
    "df[date_columns] = df[date_columns].fillna(pd.to_datetime(\"1900-01-01\"))\n",
    "\n",
    "df"
   ],
   "id": "128b4a4a576cfaab",
   "outputs": [],
   "execution_count": null
  },
  {
   "metadata": {},
   "cell_type": "code",
   "source": "df.info()",
   "id": "1e6ace30d50335da",
   "outputs": [],
   "execution_count": null
  },
  {
   "metadata": {},
   "cell_type": "code",
   "source": [
    "df = df.drop_duplicates(subset=['DFU', 'Customer', 'Period', 'BPV', 'Total Sell-in'])\n",
    "df.info()"
   ],
   "id": "74909d11cf819e3c",
   "outputs": [],
   "execution_count": null
  },
  {
   "metadata": {},
   "cell_type": "code",
   "source": "df.to_excel('dataframe.xlsx')",
   "id": "f193659e25b204a2",
   "outputs": [],
   "execution_count": null
  },
  {
   "metadata": {},
   "cell_type": "markdown",
   "source": "Теперь надо разобраться с SoD",
   "id": "6ab2889d523402e3"
  },
  {
   "metadata": {},
   "cell_type": "markdown",
   "source": [
    "Ожидаемая картина:\n",
    "1) Во всем датасете SoD + BPV = Total Sell In"
   ],
   "id": "e6dc0cfc57bb8f2c"
  },
  {
   "metadata": {},
   "cell_type": "markdown",
   "source": "Условие соблюдается только в 1500 строках, а не во всем датасете",
   "id": "b4a81e227a42f6ca"
  },
  {
   "metadata": {},
   "cell_type": "code",
   "source": "df[df['SoD'] + df['BPV'] == df['Total Sell-in']]",
   "id": "70aa2bc1b9b78db9",
   "outputs": [],
   "execution_count": null
  },
  {
   "metadata": {},
   "cell_type": "markdown",
   "source": "Посмотрим на те случаи, когда условие не соблюдается",
   "id": "14f8607bf682454"
  },
  {
   "metadata": {},
   "cell_type": "markdown",
   "source": "Вот тут один ктсти прям ништяк есть",
   "id": "95cfeaa7cd93e68a"
  },
  {
   "metadata": {},
   "cell_type": "markdown",
   "source": "Если не равно , то просто ",
   "id": "5006d14a972bc90a"
  },
  {
   "metadata": {},
   "cell_type": "code",
   "source": "df[(df['Promo' ] != 0) & (df['BPV'] + df['SoD'] == df['Total Sell-in'])]",
   "id": "9c7f44d869be4c75",
   "outputs": [],
   "execution_count": null
  },
  {
   "metadata": {},
   "cell_type": "code",
   "source": [
    "df_conflict = df[df['SoD'] + df['BPV'] != df['Total Sell-in']]\n",
    "df_conflict"
   ],
   "id": "121273b432c2ff7a",
   "outputs": [],
   "execution_count": null
  },
  {
   "metadata": {},
   "cell_type": "markdown",
   "source": "Промо в df_conflict - всегда",
   "id": "a71e636e657be42f"
  },
  {
   "metadata": {},
   "cell_type": "markdown",
   "source": "ВОПРОC: Почему если промо был с нулевым содом, то BPV != Total Sell In и что в таких случаях делать?",
   "id": "9f9d0a7d430cab69"
  },
  {
   "metadata": {},
   "cell_type": "code",
   "source": "df_conflict[df_conflict['SoD'] == 0]",
   "id": "89cbc5a3fd556e4b",
   "outputs": [],
   "execution_count": null
  },
  {
   "metadata": {},
   "cell_type": "markdown",
   "source": "ВОПРОС: Почему здесь не выполняется условие и как его обрабатывать ?",
   "id": "9d521534d88273b7"
  },
  {
   "metadata": {},
   "cell_type": "code",
   "source": "df_conflict[df_conflict['SoD'] != 0]",
   "id": "bce4f768424cccc3",
   "outputs": [],
   "execution_count": null
  },
  {
   "metadata": {},
   "cell_type": "code",
   "source": "df_conflict[df_conflict['SoD'] > df_conflict['Total Sell-in']]",
   "id": "eff2f81dece99e37",
   "outputs": [],
   "execution_count": null
  },
  {
   "metadata": {},
   "cell_type": "code",
   "source": [
    "exceeding_rows = df_conflict[df_conflict['SoD'] > df_conflict['Total Sell-in']]\n",
    "average_exceedance = (exceeding_rows[\"SoD\"] / exceeding_rows[\"Total Sell-in\"]).mean()\n",
    "\n",
    "print(f\"SoD превышает Total Sell In: {exceeding_rows.shape[0] / df_conflict.shape[0]:.2%}\")\n",
    "print(f\"SoD превышает Total Sell In в среднем: {average_exceedance:.2f} раз\")"
   ],
   "id": "2f5f190459066a11",
   "outputs": [],
   "execution_count": null
  },
  {
   "metadata": {},
   "cell_type": "markdown",
   "source": "# Построим еще общий график и посмотрим как себя вели total sell in и bpv на протяжении всего времени",
   "id": "39020257bba63812"
  },
  {
   "metadata": {},
   "cell_type": "code",
   "source": "df.info()",
   "id": "6e3d3288ebf3788",
   "outputs": [],
   "execution_count": null
  },
  {
   "metadata": {},
   "cell_type": "markdown",
   "source": "## Как в целом менялся total sell in и bpv с течением времени",
   "id": "4bd809f6be41d554"
  },
  {
   "metadata": {},
   "cell_type": "code",
   "source": [
    "import plotly.express as px\n",
    "\n",
    "plot_data = df.sort_values(by=\"Period\")\n",
    "\n",
    "fig1 = px.line(plot_data[plot_data['Promo'] == 0], x=\"Period\", y=[\"BPV\", \"Total Sell-in\"], \n",
    "              labels={\"value\": \"Значение\", \"Period\": \"Дата\"},\n",
    "              title=\"Изменение BPV и Total Sell-in во времени, не было промо\")\n",
    "\n",
    "fig2 = px.line(plot_data[plot_data['Promo'] != 0], x=\"Period\", y=[\"BPV\", \"Total Sell-in\"], \n",
    "              labels={\"value\": \"Значение\", \"Period\": \"Дата\"},\n",
    "              title=\"Изменение BPV и Total Sell-in во времени, было промо\")\n",
    "\n",
    "fig1.show()\n",
    "fig2.show()"
   ],
   "id": "46217635f651813d",
   "outputs": [],
   "execution_count": null
  },
  {
   "metadata": {},
   "cell_type": "code",
   "source": "plot_data[plot_data['Promo'] != 0]['Customer'].value_counts()",
   "id": "f7dfe76f941c8722",
   "outputs": [],
   "execution_count": null
  },
  {
   "metadata": {},
   "cell_type": "code",
   "source": [
    "import plotly.express as px\n",
    "\n",
    "fig1 = px.line(plot_data[(plot_data['Promo'] == 0) & (plot_data['Customer'] == 1)], x=\"Period\", y=[\"BPV\", \"Total Sell-in\"], \n",
    "              labels={\"value\": \"Значение\", \"Period\": \"Дата\"},\n",
    "              title=\"Customer 1: Изменение BPV и Total Sell-in во времени, не было промо\")\n",
    "\n",
    "fig2 = px.line(plot_data[(plot_data['Promo'] != 0) & (plot_data['Customer'] == 1)], x=\"Period\", y=[\"BPV\", \"Total Sell-in\"], \n",
    "              labels={\"value\": \"Значение\", \"Period\": \"Дата\"},\n",
    "              title=\"Customer 1: Изменение BPV и Total Sell-in во времени, было промо\")\n",
    "\n",
    "fig1.show()\n",
    "fig2.show()"
   ],
   "id": "ba3bf19fa8220ed8",
   "outputs": [],
   "execution_count": null
  },
  {
   "metadata": {},
   "cell_type": "code",
   "source": "sales_df_cleaned.sort_values(by=\"Period\")",
   "id": "6086b1e12376c9d8",
   "outputs": [],
   "execution_count": null
  },
  {
   "metadata": {},
   "cell_type": "code",
   "source": [
    "import plotly.graph_objects as go\n",
    "\n",
    "customer_data = sales_df_cleaned[sales_df_cleaned['Customer'] == 1]\n",
    "\n",
    "dfu_list = customer_data['DFU'].unique()\n",
    "\n",
    "for dfu in dfu_list:\n",
    "    dfu_data = customer_data[customer_data['DFU'] == dfu]\n",
    "    \n",
    "    dfu_data = dfu_data.sort_values(by='Period')\n",
    "    \n",
    "    fig = go.Figure()\n",
    "    fig.add_trace(go.Scatter(\n",
    "        x=dfu_data['Period'], y=dfu_data['BPV'], mode='lines+markers', name='BPV',\n",
    "        line=dict(color='blue', width=2)\n",
    "    ))\n",
    "    fig.add_trace(go.Scatter(\n",
    "        x=dfu_data['Period'], y=dfu_data['Total Sell-in'], mode='lines+markers', name='Total-sell-in',\n",
    "        line=dict(color='green', width=2)\n",
    "    ))\n",
    "    \n",
    "    zero_bpv_points = dfu_data[dfu_data['BPV'] == 0]\n",
    "    fig.add_trace(go.Scatter(\n",
    "        x=zero_bpv_points['Period'], y=zero_bpv_points['BPV'], mode='markers',\n",
    "        name='BPV = 0', marker=dict(color='red', size=8)\n",
    "    ))\n",
    "    \n",
    "    min_date = dfu_data['Period'].min()\n",
    "    \n",
    "    fig.update_layout(\n",
    "        title=f'Customer 1, DFU {dfu}<br>BPV, Total-sell-in, and SoD with BPV = 0 highlighted',\n",
    "        xaxis_title='Period',\n",
    "        yaxis_title='Values',\n",
    "        template='plotly_white',\n",
    "        width=1500,\n",
    "        height=600,\n",
    "        legend=dict(x=0.02, y=0.98),\n",
    "        hovermode='x unified'\n",
    "    )\n",
    "    \n",
    "    fig.update_xaxes(range=['2017-01-01', '2021-07-15'])\n",
    "    \n",
    "    fig.show()"
   ],
   "id": "bbf4a7d640d2a86b",
   "outputs": [],
   "execution_count": null
  },
  {
   "metadata": {},
   "cell_type": "code",
   "source": [
    "import plotly.graph_objects as go\n",
    "\n",
    "customer_list = sales_df_cleaned['Customer'].unique()\n",
    "\n",
    "for customer in customer_list:\n",
    "    customer_data = sales_df_cleaned[sales_df_cleaned['Customer'] == customer]\n",
    "    \n",
    "    dfu_list = customer_data['DFU'].unique()\n",
    "\n",
    "    for dfu in dfu_list:\n",
    "        dfu_data = customer_data[customer_data['DFU'] == dfu]\n",
    "        \n",
    "        dfu_data = dfu_data.sort_values(by='Period')\n",
    "        \n",
    "        fig = go.Figure()\n",
    "        fig.add_trace(go.Scatter(\n",
    "            x=dfu_data['Period'], y=dfu_data['BPV'], mode='lines+markers', name='BPV',\n",
    "            line=dict(color='blue', width=2)\n",
    "        ))\n",
    "        fig.add_trace(go.Scatter(\n",
    "            x=dfu_data['Period'], y=dfu_data['Total Sell-in'], mode='lines+markers', name='Total-sell-in',\n",
    "            line=dict(color='green', width=2)\n",
    "        ))\n",
    "        \n",
    "        zero_bpv_points = dfu_data[dfu_data['BPV'] == 0]\n",
    "        fig.add_trace(go.Scatter(\n",
    "            x=zero_bpv_points['Period'], y=zero_bpv_points['BPV'], mode='markers',\n",
    "            name='BPV = 0', marker=dict(color='red', size=8)\n",
    "        ))\n",
    "        \n",
    "        fig.update_layout(\n",
    "            title=f'Customer {customer}, DFU {dfu}<br>BPV, Total-sell-in, and SoD with BPV = 0 highlighted',\n",
    "            xaxis_title='Period',\n",
    "            yaxis_title='Values',\n",
    "            template='plotly_white',\n",
    "            width=1500,\n",
    "            height=600,\n",
    "            legend=dict(x=0.02, y=0.98),\n",
    "            hovermode='x unified'\n",
    "        )\n",
    "        \n",
    "        fig.update_xaxes(range=['2017-01-01', '2021-07-15'])\n",
    "        \n",
    "        fig.show()"
   ],
   "id": "bf6df85cd3e6df41",
   "outputs": [],
   "execution_count": null
  },
  {
   "metadata": {},
   "cell_type": "code",
   "source": [
    "sales_df_cleaned = sales_df_cleaned[sales_df_cleaned['Period'] >= '2018-04-23']\n",
    "sales_df_cleaned"
   ],
   "id": "ec7ea677e9432ab2",
   "outputs": [],
   "execution_count": null
  },
  {
   "metadata": {},
   "cell_type": "code",
   "source": "",
   "id": "f7ef205d77696df9",
   "outputs": [],
   "execution_count": null
  },
  {
   "metadata": {},
   "cell_type": "code",
   "source": [
    "customer_products = sales_df_cleaned.groupby('Customer')['DFU'].unique().reset_index()\n",
    "customer_products"
   ],
   "id": "7f21c7ee619d36a7",
   "outputs": [],
   "execution_count": null
  },
  {
   "metadata": {},
   "cell_type": "code",
   "source": [
    "last_sales_dates = sales_df_cleaned.groupby(['DFU', 'Customer'])['Period'].max().reset_index()\n",
    "\n",
    "min_last_period = last_sales_dates['Period'].min()\n",
    "\n",
    "earliest_products = last_sales_dates[last_sales_dates['Period'] == min_last_period]\n",
    "\n",
    "next_10_earliest = (\n",
    "    last_sales_dates[last_sales_dates['Period'] > min_last_period]\n",
    "    .sort_values('Period')\n",
    "    .head(10)\n",
    ")\n",
    "\n",
    "final_df = pd.concat([earliest_products, next_10_earliest])\n",
    "\n",
    "final_df"
   ],
   "id": "c4eb27e768c72006",
   "outputs": [],
   "execution_count": null
  },
  {
   "metadata": {},
   "cell_type": "code",
   "source": [
    "dfu_customer_counts = sales_df_cleaned.groupby(['DFU', 'Customer']).size().reset_index(name='Record Count')\n",
    "\n",
    "final_df = final_df.merge(dfu_customer_counts, on=['DFU', 'Customer'], how='left')\n"
   ],
   "id": "57d85116f6b85e1e",
   "outputs": [],
   "execution_count": null
  },
  {
   "metadata": {},
   "cell_type": "markdown",
   "source": [
    "С правой стороны кикаем:\n",
    "\n",
    "Рис круглозерный 1000 гр, 1\n",
    "Булгур 300 гр, 1\n",
    "Рис басмати 500 гр,18\n",
    "Йогурт Постный 180 гр, 1 ? потенциально - дропаем 72 записи чтобы получить 90, но при этом отказываемся от dfu\n",
    "\n",
    "максимальноая дата по которой берем датасет - 07.06.2021\n",
    "\n",
    "\n"
   ],
   "id": "8c2387a71546b2"
  },
  {
   "metadata": {},
   "cell_type": "markdown",
   "source": "что делать с редкими продажами??",
   "id": "da7db4807ab099cd"
  },
  {
   "metadata": {},
   "cell_type": "code",
   "source": "",
   "id": "4006d7011935a419",
   "outputs": [],
   "execution_count": null
  }
 ],
 "metadata": {
  "kernelspec": {
   "display_name": "Python 3",
   "language": "python",
   "name": "python3"
  },
  "language_info": {
   "codemirror_mode": {
    "name": "ipython",
    "version": 2
   },
   "file_extension": ".py",
   "mimetype": "text/x-python",
   "name": "python",
   "nbconvert_exporter": "python",
   "pygments_lexer": "ipython2",
   "version": "2.7.6"
  },
  "colab": {
   "provenance": []
  }
 },
 "nbformat": 4,
 "nbformat_minor": 5
}
